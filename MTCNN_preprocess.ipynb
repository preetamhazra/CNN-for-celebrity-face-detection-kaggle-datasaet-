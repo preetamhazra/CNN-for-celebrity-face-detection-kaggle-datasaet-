{
 "cells": [
  {
   "cell_type": "code",
   "execution_count": 11,
   "id": "fa25bf67-4c5b-4821-adbe-846a692887b0",
   "metadata": {},
   "outputs": [],
   "source": [
    "import numpy as np\n",
    "import matplotlib.pyplot as plt\n",
    "import pandas as pd\n",
    "import cv2\n",
    "import os \n",
    "import mtcnn"
   ]
  },
  {
   "cell_type": "code",
   "execution_count": 12,
   "id": "a2e934f9-fa31-4e9e-919c-30bf0677aca9",
   "metadata": {},
   "outputs": [],
   "source": [
    "# cv2 can't directly display image in 'jupyter' IDE. Hence, this function to bypass the same by using cv2 and matplotlib.\n",
    "def jup_imageshow(path):\n",
    "    image_path = path # Read the image path\n",
    "    image = cv2.imread(image_path) # Read the image\n",
    "    if image is None:\n",
    "        print(\"wrong credentials for the image path\")\n",
    "    else:\n",
    "        image_rgb = cv2.cvtColor(image, cv2.COLOR_BGR2RGB) # change format from cv2 to matplotlib \n",
    "        #plt.figure(figsize=(8,6))\n",
    "        plt.imshow(image_rgb)\n",
    "        plt.title(\"Loaded Image\")\n",
    "        plt.axis('off')  # Hide axis\n",
    "        plt.show()"
   ]
  },
  {
   "cell_type": "code",
   "execution_count": 13,
   "id": "4ca9b755-df95-409c-bb3b-0f147edf871b",
   "metadata": {},
   "outputs": [],
   "source": [
    "# funtion to return, name/number of folders/files in a given location in my pc.\n",
    "def filfol(folder_path,choice):\n",
    "    items=os.listdir(folder_path)\n",
    "    # Separate files and folders\n",
    "    files=[f for f in items if os.path.isfile(os.path.join(folder_path, f))]\n",
    "    folders=[f for f in items if os.path.isdir(os.path.join(folder_path, f))]\n",
    "    if choice==\"folder\": # name of  folders\n",
    "        return folders\n",
    "    elif choice==\"file\": # name of files\n",
    "        return files\n",
    "    elif choice==\"folder_n\": # number of folders\n",
    "        return len(folders)\n",
    "    elif choice==\"file_n\": # number of files\n",
    "        return len(files)\n",
    "    else:\n",
    "        print(\"wrong input choice\")"
   ]
  },
  {
   "cell_type": "code",
   "execution_count": 14,
   "id": "7d7e5b77-ad7e-49ca-8511-2cc681b51538",
   "metadata": {},
   "outputs": [],
   "source": [
    "f_in_path=\"D:/preetam/AIML_Data/celebrity/Celebrity Faces Dataset\" # main dataset folder path or the input folder path\n",
    "f_out_path=\"D:/preetam/AIML_Data/celebrity/Celebrity only Faces\" # face dataset folder path or the outpu"
   ]
  },
  {
   "cell_type": "code",
   "execution_count": 15,
   "id": "50175d99-b9c0-47bc-bf53-bc54b16c20ea",
   "metadata": {},
   "outputs": [
    {
     "name": "stdout",
     "output_type": "stream",
     "text": [
      "['Angelina Jolie', 'Brad Pitt', 'Denzel Washington', 'Hugh Jackman', 'Jennifer Lawrence', 'Johnny Depp', 'Kate Winslet', 'Leonardo DiCaprio', 'Megan Fox', 'Natalie Portman', 'Nicole Kidman', 'Robert Downey Jr', 'Sandra Bullock', 'Scarlett Johansson', 'Tom Cruise', 'Tom Hanks', 'Will Smith']\n",
      "Number of folders= 17\n"
     ]
    }
   ],
   "source": [
    "print(filfol(f_in_path,\"folder\"))\n",
    "print(\"Number of folders=\", filfol(f_in_path,\"folder_n\"))"
   ]
  },
  {
   "cell_type": "code",
   "execution_count": 16,
   "id": "9070abda-d5f0-4632-8630-68c87ccb75bb",
   "metadata": {},
   "outputs": [],
   "source": [
    "detector=mtcnn.MTCNN()   # set mtcnn as face detector"
   ]
  },
  {
   "cell_type": "code",
   "execution_count": 17,
   "id": "85e7cb2d-3115-42a5-87bb-dbf608e46a58",
   "metadata": {},
   "outputs": [],
   "source": [
    "# Create output directory if not exists\n",
    "if not os.path.exists(f_out_path):\n",
    "    os.makedirs(f_out_path)"
   ]
  },
  {
   "cell_type": "code",
   "execution_count": 19,
   "id": "aa76243e-2fa3-4a56-9bd2-3eecfbea65f2",
   "metadata": {},
   "outputs": [
    {
     "name": "stdout",
     "output_type": "stream",
     "text": [
      "No faces were found\n",
      "No faces were found\n",
      "No faces were found\n",
      "No faces were found\n",
      "No faces were found\n",
      "No faces were found\n",
      "No faces were found\n",
      "No faces were found\n",
      "No faces were found\n",
      "No faces were found\n",
      "No faces were found\n",
      "No faces were found\n",
      "No faces were found\n",
      "No faces were found\n",
      "No faces were found\n",
      "No faces were found\n",
      "No faces were found\n",
      "No faces were found\n",
      "No faces were found\n",
      "No faces were found\n",
      "No faces were found\n",
      "No faces were found\n",
      "No faces were found\n",
      "No faces were found\n",
      "No faces were found\n",
      "No faces were found\n",
      "No faces were found\n",
      "No faces were found\n",
      "No faces were found\n",
      "No faces were found\n",
      "No faces were found\n",
      "No faces were found\n",
      "No faces were found\n",
      "No faces were found\n",
      "No faces were found\n",
      "No faces were found\n",
      "No faces were found\n",
      "No faces were found\n",
      "No faces were found\n",
      "No faces were found\n",
      "No faces were found\n",
      "No faces were found\n",
      "No faces were found\n",
      "No faces were found\n",
      "No faces were found\n",
      "No faces were found\n",
      "No faces were found\n",
      "No faces were found\n",
      "No faces were found\n",
      "No faces were found\n",
      "No faces were found\n",
      "No faces were found\n",
      "No faces were found\n",
      "No faces were found\n",
      "No faces were found\n",
      "No faces were found\n",
      "No faces were found\n",
      "No faces were found\n",
      "No faces were found\n",
      "No faces were found\n",
      "No faces were found\n",
      "No faces were found\n",
      "No faces were found\n",
      "No faces were found\n",
      "No faces were found\n",
      "No faces were found\n",
      "No faces were found\n",
      "No faces were found\n",
      "68\n"
     ]
    }
   ],
   "source": [
    "x=[]\n",
    "y_label=[]\n",
    "y=[]\n",
    "hmax=0 # max pixels along height axis\n",
    "wmax=0 # max pixels along width axis\n",
    "total_faces=0\n",
    "failed_faces=0\n",
    "for f in filfol(f_in_path,\"folder\"):    # scan through the folders\n",
    "    # check if individual celebrity folder exists; if not, create one\n",
    "    if not os.path.exists(f_out_path+\"/\"+f):\n",
    "        os.makedirs(f_out_path+\"/\"+f)\n",
    "    for fi in filfol(f_in_path+\"/\"+f,\"file\"):    # scan through the files\n",
    "        img_path = os.path.join(f_in_path+\"/\"+f, fi)    # construct the individual file path\n",
    "        img=cv2.imread(img_path)    # read the image\n",
    "        faces=detector.detect_faces(img)   # detect face from the image\n",
    "        if faces:\n",
    "            xim, yim, w, h=faces[0]['box']\n",
    "            xim, yim=max(0, xim), max(0, yim)  # ensure no negative\n",
    "\n",
    "            # Crop & resize face\n",
    "            face = img[yim:yim+h, xim:xim+w]\n",
    "            face_resized = cv2.resize(face, (160, 160))  # FaceNet standard size\n",
    "\n",
    "            save_path=os.path.join(f_out_path+\"/\"+f, fi)\n",
    "            cv2.imwrite(save_path, cv2.cvtColor(face_resized, cv2.COLOR_RGB2BGR))\n",
    "\n",
    "            total_faces=total_faces+1\n",
    "        else:\n",
    "            print(\"No faces were found\")\n",
    "            failed_faces=failed_faces+1\n",
    "print(failed_faces)"
   ]
  },
  {
   "cell_type": "code",
   "execution_count": null,
   "id": "4953b189-cfa8-4a33-b623-fab8154caac1",
   "metadata": {},
   "outputs": [],
   "source": []
  },
  {
   "cell_type": "code",
   "execution_count": null,
   "id": "ca884845-91f1-4934-8062-7b085a9f3ba5",
   "metadata": {},
   "outputs": [],
   "source": []
  },
  {
   "cell_type": "code",
   "execution_count": null,
   "id": "baf69d30-adbb-4b69-ac42-b0a5ea933c42",
   "metadata": {},
   "outputs": [],
   "source": []
  }
 ],
 "metadata": {
  "kernelspec": {
   "display_name": "Python 3 (ipykernel)",
   "language": "python",
   "name": "python3"
  },
  "language_info": {
   "codemirror_mode": {
    "name": "ipython",
    "version": 3
   },
   "file_extension": ".py",
   "mimetype": "text/x-python",
   "name": "python",
   "nbconvert_exporter": "python",
   "pygments_lexer": "ipython3",
   "version": "3.10.18"
  }
 },
 "nbformat": 4,
 "nbformat_minor": 5
}
